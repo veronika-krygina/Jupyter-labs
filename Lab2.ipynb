{
 "cells": [
  {
   "cell_type": "markdown",
   "id": "64137d5b-9522-482e-99e3-003ddb5a3344",
   "metadata": {},
   "source": [
    "# Lab 2 Kryhina CS442a"
   ]
  },
  {
   "cell_type": "markdown",
   "id": "5a56214e-577c-4dd7-91f0-38eeefb16257",
   "metadata": {},
   "source": [
    "## Variant"
   ]
  },
  {
   "cell_type": "code",
   "execution_count": 4,
   "id": "fc157009-4f7b-4548-a1d1-f3440ea60281",
   "metadata": {},
   "outputs": [
    {
     "name": "stdout",
     "output_type": "stream",
     "text": [
      "2\n"
     ]
    }
   ],
   "source": [
    "N = (2 + 4 ) % 5 + 1\n",
    "print(N)"
   ]
  },
  {
   "cell_type": "markdown",
   "id": "e11e916f-53f8-43a2-a829-060554b2368d",
   "metadata": {},
   "source": [
    "## Numbers of tasks: \n",
    "3,  4,  5,  8,  9, 11, 12, 13, 14, 16, 17, 18, \r\n",
    "19, 20, 22, 23, 24, 27"
   ]
  },
  {
   "cell_type": "markdown",
   "id": "fbd91850-4548-44f8-8680-074817d318fc",
   "metadata": {},
   "source": [
    "## Import"
   ]
  },
  {
   "cell_type": "code",
   "execution_count": 16,
   "id": "8f8b5b71-6bff-43d6-a377-b0838f63cfa3",
   "metadata": {},
   "outputs": [],
   "source": [
    "import pandas as pd\n",
    "df = pd.read_csv('NationalNames.csv')"
   ]
  },
  {
   "cell_type": "markdown",
   "id": "fbfcc157-3acc-4fc6-90d7-1dae3e8268bd",
   "metadata": {},
   "source": [
    "### Task 3 \n",
    "#### Отримайте імена стовпців набору даних "
   ]
  },
  {
   "cell_type": "code",
   "execution_count": 22,
   "id": "4b5b2cd5-83e7-4d18-b74a-5a78f3b877c6",
   "metadata": {},
   "outputs": [
    {
     "name": "stdout",
     "output_type": "stream",
     "text": [
      "Імена стовпців: Index(['Id', 'Name', 'Year', 'Gender', 'Count'], dtype='object')\n"
     ]
    }
   ],
   "source": [
    "column_names = df.columns\n",
    "print(\"Імена стовпців:\", column_names)"
   ]
  },
  {
   "cell_type": "markdown",
   "id": "5aaec229-1d2d-4784-bbb7-d2d5c6592f62",
   "metadata": {},
   "source": [
    "### Task 4 \n",
    "#### Отримайте загальну інформацію про дані у наборі даних. "
   ]
  },
  {
   "cell_type": "code",
   "execution_count": 80,
   "id": "306f9a8f-2c07-47ca-88e3-0a4a5eafdbd7",
   "metadata": {},
   "outputs": [
    {
     "name": "stdout",
     "output_type": "stream",
     "text": [
      "                 Id          Year         Count\n",
      "count  1.825433e+06  1.825433e+06  1.825433e+06\n",
      "mean   9.127170e+05  1.972620e+03  1.846879e+02\n",
      "std    5.269573e+05  3.352891e+01  1.566711e+03\n",
      "min    1.000000e+00  1.880000e+03  5.000000e+00\n",
      "25%    4.563590e+05  1.949000e+03  7.000000e+00\n",
      "50%    9.127170e+05  1.982000e+03  1.200000e+01\n",
      "75%    1.369075e+06  2.001000e+03  3.200000e+01\n",
      "max    1.825433e+06  2.014000e+03  9.968000e+04\n"
     ]
    }
   ],
   "source": [
    "print(df.describe())"
   ]
  },
  {
   "cell_type": "markdown",
   "id": "92e41285-2efe-4b52-b7f7-5ec148081d35",
   "metadata": {},
   "source": [
    "### Task 5\n",
    "#### Знайдіть кількість унікальних імен у наборі даних."
   ]
  },
  {
   "cell_type": "code",
   "execution_count": 27,
   "id": "7971eb98-d0dc-403a-b382-c90ef228576d",
   "metadata": {},
   "outputs": [
    {
     "name": "stdout",
     "output_type": "stream",
     "text": [
      "Кількість унікальних імен: 93889\n"
     ]
    }
   ],
   "source": [
    "unique_names_count = df['Name'].nunique()\n",
    "print(\"Кількість унікальних імен:\", unique_names_count)"
   ]
  },
  {
   "cell_type": "markdown",
   "id": "0185f913-6cd8-4faf-b7d9-608b0130d22b",
   "metadata": {},
   "source": [
    "### Task 8\n",
    "#### Знайдіть найпопулярніше ім’я за результатами одного року (ім’я, для якого Count  максимальне) "
   ]
  },
  {
   "cell_type": "code",
   "execution_count": 96,
   "id": "78493a57-837e-4fa8-b93a-ef873cb00741",
   "metadata": {},
   "outputs": [
    {
     "name": "stdout",
     "output_type": "stream",
     "text": [
      "Найпопулярніше ім'я Linda в 1947 році\n"
     ]
    }
   ],
   "source": [
    "popular_name_year = df.loc[df['Count'].idxmax()]\n",
    "print(f\"Найпопулярніше ім'я {popular_name_year['Name']} в {popular_name_year['Year']} році\")\n"
   ]
  },
  {
   "cell_type": "markdown",
   "id": "6bc50e92-ea29-4e29-9d7b-1dd4827f1151",
   "metadata": {},
   "source": [
    "### Task 9\n",
    "#### Підрахуйте кількість записів, для яких Count  - мінімальне у наборі. "
   ]
  },
  {
   "cell_type": "code",
   "execution_count": 31,
   "id": "53c0fb66-6a4d-404a-a997-754332977639",
   "metadata": {},
   "outputs": [
    {
     "name": "stdout",
     "output_type": "stream",
     "text": [
      "Кількість записів із мінімальним Count: 254615\n"
     ]
    }
   ],
   "source": [
    "min_count = df['Count'].min()\n",
    "min_count_records = df[df['Count'] == min_count].shape[0]\n",
    "print(\"Кількість записів із мінімальним Count:\", min_count_records)"
   ]
  },
  {
   "cell_type": "markdown",
   "id": "bb794e6c-6c34-4598-9e3f-dff67fa35cea",
   "metadata": {},
   "source": [
    "### Task 11 \n",
    "#### Знайдіть рік із найбільшою кількістю унікальних імен."
   ]
  },
  {
   "cell_type": "code",
   "execution_count": 33,
   "id": "484e8186-8440-47e3-a222-df07027e11f8",
   "metadata": {},
   "outputs": [
    {
     "name": "stdout",
     "output_type": "stream",
     "text": [
      "Рік із найбільшою кількістю унікальних імен: 2008\n"
     ]
    }
   ],
   "source": [
    "year_max_unique_names = df.groupby('Year')['Name'].nunique().idxmax()\n",
    "print(\"Рік із найбільшою кількістю унікальних імен:\", year_max_unique_names)"
   ]
  },
  {
   "cell_type": "markdown",
   "id": "443f2a25-e620-4d0b-8a80-675c704582eb",
   "metadata": {},
   "source": [
    "### Task 12 \n",
    "#### Знайдіть найпопулярніше ім’я в році з найбільшою кількістю унікальних імен "
   ]
  },
  {
   "cell_type": "code",
   "execution_count": 104,
   "id": "2ae9a6db-3ee0-4457-95cd-f96fa805db99",
   "metadata": {},
   "outputs": [
    {
     "name": "stdout",
     "output_type": "stream",
     "text": [
      "Найпопулярніше ім'я Jacob в 2008\n"
     ]
    }
   ],
   "source": [
    "year_max_unique_names = df.groupby('Year')['Name'].nunique().idxmax()\n",
    "popular_name = df[df['Year'] == year_max_unique_names].sort_values(by='Count', ascending=False).iloc[0]\n",
    "print(f\"Найпопулярніше ім'я {popular_name['Name']} в {popular_name['Year']}\")\n"
   ]
  },
  {
   "cell_type": "markdown",
   "id": "5e82181d-c3a0-4bd7-9ce9-3e7a96561e82",
   "metadata": {},
   "source": [
    "### Task 13 \n",
    "#### Знайдіть рік, коли ім’я “Jacob”  було найпопулярнішим серед жіночих імен"
   ]
  },
  {
   "cell_type": "code",
   "execution_count": 106,
   "id": "158c2d76-b694-42aa-957d-4807e1fd0b86",
   "metadata": {},
   "outputs": [
    {
     "name": "stdout",
     "output_type": "stream",
     "text": [
      "Рік: 2004\n"
     ]
    }
   ],
   "source": [
    "jacob_female = df[(df['Name'] == 'Jacob') & (df['Gender'] == 'F')].sort_values(by='Count', ascending=False).head(1)\n",
    "print(\"Рік:\", jacob_female['Year'].values[0])\n"
   ]
  },
  {
   "cell_type": "markdown",
   "id": "1ba4ff28-ea05-4431-9fe0-a5bfe98e9785",
   "metadata": {},
   "source": [
    "### Task 14 \n",
    "#### Знайти рік із найбільшою кількістю гендерно нейтральних імен (однакові чоловічі та жіночі імена)"
   ]
  },
  {
   "cell_type": "code",
   "execution_count": 46,
   "id": "96393730-9e72-4f14-9f98-3fe3daca6296",
   "metadata": {},
   "outputs": [
    {
     "name": "stdout",
     "output_type": "stream",
     "text": [
      "Рік із найбільшою кількістю гендерно нейтральних імен: 2009\n"
     ]
    }
   ],
   "source": [
    "gender_neutral_names = df.groupby(['Name']).filter(lambda x: x['Gender'].nunique() == 2)\n",
    "year_max_neutral_names = gender_neutral_names.groupby('Year')['Name'].nunique().idxmax()\n",
    "print(\"Рік із найбільшою кількістю гендерно нейтральних імен:\", year_max_neutral_names)"
   ]
  },
  {
   "cell_type": "markdown",
   "id": "06329bb8-e9f7-4a15-b7d8-7c7ae5f12537",
   "metadata": {},
   "source": [
    "### Task 16\n",
    "#### Знайдіть рік, коли народилося найбільше дітей"
   ]
  },
  {
   "cell_type": "code",
   "execution_count": 54,
   "id": "459da61c-a73a-4d5e-b411-7c302206b917",
   "metadata": {},
   "outputs": [
    {
     "name": "stdout",
     "output_type": "stream",
     "text": [
      "Рік із найбільшою кількістю народжень: 1957\n"
     ]
    }
   ],
   "source": [
    "year_max_births = df.groupby('Year')['Count'].sum().idxmax()\n",
    "print(\"Рік із найбільшою кількістю народжень:\", year_max_births)"
   ]
  },
  {
   "cell_type": "markdown",
   "id": "510292e6-8fd4-4851-bc45-b5100df0e8cc",
   "metadata": {},
   "source": [
    "### Task 17\n",
    "#### Знайдіть кількість дівчаток та хлопчиків, які народились кожного року"
   ]
  },
  {
   "cell_type": "code",
   "execution_count": 110,
   "id": "2936ac40-fa3f-4452-ad27-f15099d544ea",
   "metadata": {},
   "outputs": [
    {
     "name": "stdout",
     "output_type": "stream",
     "text": [
      "Кількість дівчаток та хлопчиків кожного року:\n",
      " Gender        F        M\n",
      "Year                    \n",
      "1880      90993   110491\n",
      "1881      91954   100745\n",
      "1882     107850   113688\n",
      "1883     112321   104629\n",
      "1884     129022   114445\n",
      "...         ...      ...\n",
      "2010    1772738  1913851\n",
      "2011    1753500  1893230\n",
      "2012    1753922  1889414\n",
      "2013    1745339  1881463\n",
      "2014    1768775  1901376\n",
      "\n",
      "[135 rows x 2 columns]\n"
     ]
    }
   ],
   "source": [
    "gender_count_per_year = df.groupby(['Year', 'Gender'])['Count'].sum().unstack()\n",
    "print(\"Кількість дівчаток та хлопчиків кожного року:\\n\", gender_count_per_year)\n"
   ]
  },
  {
   "cell_type": "markdown",
   "id": "b753307c-f216-4749-a08b-a97d68b13768",
   "metadata": {},
   "source": [
    "### Task 18\n",
    "#### Підрахуйте кількість років, коли дівчаток народжувалось більше, ніж хлопчиків. "
   ]
  },
  {
   "cell_type": "code",
   "execution_count": 58,
   "id": "6b2a4412-f56c-4068-9a37-5d3ad56ca93d",
   "metadata": {},
   "outputs": [
    {
     "name": "stdout",
     "output_type": "stream",
     "text": [
      "Кількість років, коли дівчаток народжувалось більше, ніж хлопчиків: 54\n"
     ]
    }
   ],
   "source": [
    "years_more_girls = gender_count_per_year[gender_count_per_year['F'] > gender_count_per_year['M']].shape[0]\n",
    "print(\"Кількість років, коли дівчаток народжувалось більше, ніж хлопчиків:\", years_more_girls)\n"
   ]
  },
  {
   "cell_type": "markdown",
   "id": "46e77916-29f2-4abb-8299-d58d6585a848",
   "metadata": {},
   "source": [
    "### Task 19\n",
    "####  Накресліть графік загальної кількості народжень хлопчиків та дівчаток на рік."
   ]
  },
  {
   "cell_type": "code",
   "execution_count": 148,
   "id": "a369f02c-e9dc-4b66-a9d9-d27c2bb9a529",
   "metadata": {},
   "outputs": [
    {
     "data": {
      "image/png": "[encoded data removed]",
      "text/plain": [
       "<Figure size 640x480 with 1 Axes>"
      ]
     },
     "metadata": {},
     "output_type": "display_data"
    }
   ],
   "source": [
    "import matplotlib.pyplot as plt\n",
    "\n",
    "gender_count_per_year.plot()\n",
    "plt.title('Загальна кількість народжень хлопчиків та дівчаток на рік')\n",
    "plt.xlabel('Рік')\n",
    "plt.ylabel('Кількість народжень')\n",
    "plt.show()"
   ]
  },
  {
   "cell_type": "markdown",
   "id": "625c9899-ba5c-486d-af8a-f4dfdcb80bc1",
   "metadata": {},
   "source": [
    "### Task 20\n",
    "#### Підрахуйте кількість гендерно нейтральних імен (однакових для дівчат та хлопців) "
   ]
  },
  {
   "cell_type": "code",
   "execution_count": 62,
   "id": "dca103a6-cb75-4241-b08b-7e873c55d8e2",
   "metadata": {},
   "outputs": [
    {
     "name": "stdout",
     "output_type": "stream",
     "text": [
      "Кількість гендерно нейтральних імен: 10221\n"
     ]
    }
   ],
   "source": [
    "neutral_names_count = gender_neutral_names['Name'].nunique()\n",
    "print(\"Кількість гендерно нейтральних імен:\", neutral_names_count)"
   ]
  },
  {
   "cell_type": "markdown",
   "id": "24c7d29d-048c-4125-b3f9-ee9820d219ca",
   "metadata": {},
   "source": [
    "### Task 23\n",
    "#### Знайти найпопулярніші гендерно-нейтральні імена (ті, що присутні кожного року"
   ]
  },
  {
   "cell_type": "code",
   "execution_count": 192,
   "id": "26bbf4da-20c2-4122-b1ff-406e6408ee91",
   "metadata": {},
   "outputs": [
    {
     "name": "stdout",
     "output_type": "stream",
     "text": [
      "15 найпопулярніших спільних імен:\n",
      "             Name  Total_Count\n",
      "4230        James      5129096\n",
      "4676         John      5106590\n",
      "8096       Robert      4816785\n",
      "6831      Michael      4330805\n",
      "6619         Mary      4130441\n",
      "9923      William      4071368\n",
      "2370        David      3590557\n",
      "4760       Joseph      2580687\n",
      "8033      Richard      2564867\n",
      "1728      Charles      2376700\n",
      "9371       Thomas      2291517\n",
      "1849  Christopher      2004177\n",
      "2230       Daniel      1876880\n",
      "3018    Elizabeth      1606282\n",
      "7561     Patricia      1575529\n"
     ]
    }
   ],
   "source": [
    "# Крок 1: Записуємо всі жіночі імена та їх підрахунок\n",
    "female_counts = df[df['Gender'] == 'F'].groupby('Name')['Count'].sum().reset_index()\n",
    "female_counts.columns = ['Name', 'Female_Count']\n",
    "\n",
    "# Крок 2: Записуємо всі чоловічі імена та їх підрахунок\n",
    "male_counts = df[df['Gender'] == 'M'].groupby('Name')['Count'].sum().reset_index()\n",
    "male_counts.columns = ['Name', 'Male_Count']\n",
    "\n",
    "# Крок 3: Зливаємо обидва датафрейми за спільним ім'ям\n",
    "common_names = pd.merge(female_counts, male_counts, on='Name', how='inner')\n",
    "# Крок 4: Підраховуємо загальну кількість для спільних імен\n",
    "common_names['Total_Count'] = common_names['Female_Count'] + common_names['Male_Count']\n",
    "# Крок 5: Знаходимо 15 найпопулярніших спільних імен\n",
    "top_common_names = common_names.nlargest(15, 'Total_Count')\n",
    "\n",
    "# Виводимо результат\n",
    "print(\"15 найпопулярніших спільних імен:\")\n",
    "print(top_common_names[['Name', 'Total_Count']])\n"
   ]
  },
  {
   "cell_type": "markdown",
   "id": "7bcf702e-0063-4e53-bb28-e62b57467d4f",
   "metadata": {},
   "source": [
    "### Task 24\n",
    "#### Знайти найпопулярніше серед непопулярних імен (непопулярне ім’я, яким називали дітей найбільшу кількість разів)"
   ]
  },
  {
   "cell_type": "code",
   "execution_count": 197,
   "id": "4220454f-9060-428c-a645-3f387f3fb6bf",
   "metadata": {},
   "outputs": [
    {
     "name": "stdout",
     "output_type": "stream",
     "text": [
      "Найпопулярніше серед непопулярних імен: Name\n",
      "Zzyzx    5\n",
      "Name: Count, dtype: int64\n"
     ]
    }
   ],
   "source": [
    "# Альтернативний підхід через зведену таблицю\n",
    "least_popular_name = df.groupby('Name')['Count'].sum().sort_values(ascending=True).head(1)\n",
    "print(\"Найпопулярніше серед непопулярних імен:\", least_popular_name)\n"
   ]
  },
  {
   "cell_type": "markdown",
   "id": "21953198-c0d7-4e54-9908-ddb322badb89",
   "metadata": {},
   "source": [
    "### Task 27\n",
    "#### Знайти найпопулярніші імена в кожному році."
   ]
  },
  {
   "cell_type": "code",
   "execution_count": 70,
   "id": "16820e65-dc34-4b64-847e-ed94ea1255e4",
   "metadata": {},
   "outputs": [
    {
     "name": "stdout",
     "output_type": "stream",
     "text": [
      "Найпопулярніші імена в кожному році:\n",
      "          Year      Name  Count\n",
      "942      1880      John   9655\n",
      "2938     1881      John   8769\n",
      "4963     1882      John   9557\n",
      "7116     1883      John   8894\n",
      "9318     1884      John   9388\n",
      "...       ...       ...    ...\n",
      "1657592  2010  Isabella  22883\n",
      "1691633  2011    Sophia  21816\n",
      "1725502  2012    Sophia  22267\n",
      "1759186  2013    Sophia  21147\n",
      "1792389  2014      Emma  20799\n",
      "\n",
      "[135 rows x 3 columns]\n"
     ]
    }
   ],
   "source": [
    "most_popular_names_each_year = df.loc[df.groupby('Year')['Count'].idxmax()][['Year', 'Name', 'Count']]\n",
    "print(\"Найпопулярніші імена в кожному році:\\n\", most_popular_names_each_year)"
   ]
  },
  {
   "cell_type": "code",
   "execution_count": null,
   "id": "fe870106-b4db-4607-a6c5-1cf10868fbc2",
   "metadata": {},
   "outputs": [],
   "source": []
  }
 ],
 "metadata": {
  "kernelspec": {
   "display_name": "Python 3 (ipykernel)",
   "language": "python",
   "name": "python3"
  },
  "language_info": {
   "codemirror_mode": {
    "name": "ipython",
    "version": 3
   },
   "file_extension": ".py",
   "mimetype": "text/x-python",
   "name": "python",
   "nbconvert_exporter": "python",
   "pygments_lexer": "ipython3",
   "version": "3.12.4"
  }
 },
 "nbformat": 4,
 "nbformat_minor": 5
}

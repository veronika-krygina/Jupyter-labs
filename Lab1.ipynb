{
 "cells": [
  {
   "cell_type": "markdown",
   "id": "2d0a8e8b-1572-4f21-81f5-0694df2b7c0b",
   "metadata": {},
   "source": [
    "# Task 1: \n",
    "Selecting a variant number"
   ]
  },
  {
   "cell_type": "code",
   "execution_count": 129,
   "id": "d63fef9b-ae6f-426a-8d20-c4c762d52d5b",
   "metadata": {},
   "outputs": [
    {
     "name": "stdout",
     "output_type": "stream",
     "text": [
      "7\n"
     ]
    }
   ],
   "source": [
    "N = ord('V') % 10 + 1\n",
    "print(N)"
   ]
  },
  {
   "cell_type": "markdown",
   "id": "b9db5e28-eadf-42a0-a8ac-a1aca7a77756",
   "metadata": {},
   "source": [
    "### My name is Veronika, so 7th variant has been selected. "
   ]
  },
  {
   "cell_type": "markdown",
   "id": "c4d1825d-ccf8-4d75-ba97-d8927111bdd2",
   "metadata": {},
   "source": [
    "# Ісландія: Огляд країни\n",
    "\n",
    "## **Загальна інформація**\n",
    "\n",
    "### Географія\n",
    "Ісландія — це острівна держава у північній частині Атлантичного океану.\n",
    "**Площа**: *103,000 км²*  \n",
    "**Населення**: *близько 370,000 осіб*\n",
    "\n",
    "<div style=\"border: 2px solid black; padding: 10px; width: 50%;\">\n",
    "    <b>Столиця:</b> Рейк'явік<br>\n",
    "    <b>Офіційна мова:</b> Ісландська<br>\n",
    "    <b>Валюта:</b> Ісландська крона (ISK)<br>\n",
    "    <b>Державний устрій:</b> Парламентська республіка\n",
    "</div>\n",
    "\n",
    "## **Культура та видатні пам'ятки**\n",
    "\n",
    "**Культура Ісландії** насичена фольклором, музикою та літературою.  \n",
    "Ось декілька відомих пам'яток культури та природи:\n",
    "\n",
    "1. **Гейзери та вулкани**:\n",
    "   - [Строккур](https://en.wikipedia.org/wiki/Strokkur) — відомий гейзер.\n",
    "   - Гекла — активний вулкан.\n",
    "\n",
    "2. **Ісландські саги**:\n",
    "   - Твори середньовічної літератури, що описують історію Ісландії.\n",
    "\n",
    "3. **Національний музей Ісландії**:\n",
    "   - Розташований у столиці Рейк'явіку.\n",
    "\n",
    "## **Відомі особистості**\n",
    "- **Б'йорк** — всесвітньо відома співачка.\n",
    "- **Хадльгрімур П'єтурссон** — поет та священик.\n",
    "- **Сноррі Стурлусон** — історик та політик.\n",
    "\n",
    "## **Таблиця статистики**\n",
    "\n",
    "| Показник                | Значення      |\n",
    "|-------------------------|---------------|\n",
    "| Площа                   | 103,000 км²   |\n",
    "| Населення               | 370,000 осіб  |\n",
    "| Офіційна мова           | Ісландська    |\n",
    "| Столиця                 | Рейк'явік     |\n",
    "\n",
    "## **Природа Ісландії**\n",
    "\n",
    "Ісландія має унікальні природні ландшафти, включаючи **льодовики**, **водоспади** та **геотермальні джерела**.  \n",
    "Ось зображення одного з найвідоміших водоспадів Ісландії — Ґульфосс:\n",
    "\n",
    "![Водоспад Ґульфосс](https://upload.wikimedia.org/wikipedia/commons/thumb/3/3f/GullfossOverview.jpg/420px-GullfossOverview.jpg)\n",
    "\n",
    "\n",
    "## **Додаткова інформація**\n",
    "Більше про Ісландію можна прочитати на [офіційному сайті уряду Ісландії](https://www.government.is/).\n"
   ]
  },
  {
   "cell_type": "markdown",
   "id": "7fd27e99-f311-4289-9276-c7352cb68be4",
   "metadata": {},
   "source": [
    "## **Національний прапор Ісландії**"
   ]
  },
  {
   "cell_type": "code",
   "execution_count": 123,
   "id": "558b8435-acc1-432e-8ea3-dfc454621771",
   "metadata": {},
   "outputs": [
    {
     "data": {
      "image/svg+xml": [
       "<svg xmlns=\"http://www.w3.org/2000/svg\" width=\"220\" height=\"150\" viewBox=\"0 0 25 18\">\n",
       "  <rect width=\"25\" height=\"18\" fill=\"#003897\"/>\n",
       "  <rect y=\"7\" width=\"25\" height=\"4\" fill=\"#fff\"/>\n",
       "  <rect x=\"7\" width=\"4\" height=\"18\" fill=\"#fff\"/>\n",
       "  <rect y=\"8\" width=\"25\" height=\"2\" fill=\"#d72828\"/>\n",
       "  <rect x=\"8\" width=\"2\" height=\"18\" fill=\"#d72828\"/>\n",
       "</svg>"
      ],
      "text/plain": [
       "<IPython.core.display.SVG object>"
      ]
     },
     "metadata": {},
     "output_type": "display_data"
    }
   ],
   "source": [
    "from IPython.display import SVG, display\n",
    "\n",
    "iceland_flag_svg = '''\n",
    "<svg xmlns=\"http://www.w3.org/2000/svg\" width=\"220\" height=\"150\" viewBox=\"0 0 25 18\">\n",
    "  <rect width=\"25\" height=\"18\" fill=\"#003897\"/>\n",
    "  <rect y=\"7\" width=\"25\" height=\"4\" fill=\"#fff\"/>\n",
    "  <rect x=\"7\" width=\"4\" height=\"18\" fill=\"#fff\"/>\n",
    "  <rect y=\"8\" width=\"25\" height=\"2\" fill=\"#d72828\"/>\n",
    "  <rect x=\"8\" width=\"2\" height=\"18\" fill=\"#d72828\"/>\n",
    "</svg>\n",
    "'''\n",
    "\n",
    "display(SVG(iceland_flag_svg))\n"
   ]
  },
  {
   "cell_type": "code",
   "execution_count": 118,
   "id": "7d18f764-00e2-495c-b91b-05edf5fae6b8",
   "metadata": {},
   "outputs": [
    {
     "name": "stdout",
     "output_type": "stream",
     "text": [
      "1000\n",
      "0010\n",
      "0000.101\n",
      "1010.101\n"
     ]
    }
   ],
   "source": [
    "def decimal_to_binary(n):\n",
    "    if n < 0:\n",
    "        return '-' + decimal_to_binary(-n)\n",
    "    integer_part = int(n)\n",
    "    fractional_part = n - integer_part\n",
    "\n",
    "    binary_integer = ''\n",
    "    if integer_part == 0:\n",
    "        binary_integer = '0000'\n",
    "    else:\n",
    "        while integer_part > 0:\n",
    "            binary_integer = str(integer_part % 2) + binary_integer\n",
    "            integer_part //= 2\n",
    "            \n",
    "    binary_integer = binary_integer.zfill(4)\n",
    "\n",
    "    binary_fraction = ''\n",
    "    while fractional_part and len(binary_fraction) < 10:  \n",
    "        fractional_part *= 2\n",
    "        bit = int(fractional_part)\n",
    "        binary_fraction += str(bit)\n",
    "        fractional_part -= bit\n",
    "\n",
    "    return binary_integer + ('.' + binary_fraction if binary_fraction else '')\n",
    "\n",
    "# Приклади використання\n",
    "print(decimal_to_binary(8))       # 1000\n",
    "print(decimal_to_binary(2))       # 0010\n",
    "print(decimal_to_binary(0.625))   # 0000.101\n",
    "print(decimal_to_binary(10.625))  # 0000.101\n"
   ]
  }
 ],
 "metadata": {
  "kernelspec": {
   "display_name": "Python 3 (ipykernel)",
   "language": "python",
   "name": "python3"
  },
  "language_info": {
   "codemirror_mode": {
    "name": "ipython",
    "version": 3
   },
   "file_extension": ".py",
   "mimetype": "text/x-python",
   "name": "python",
   "nbconvert_exporter": "python",
   "pygments_lexer": "ipython3",
   "version": "3.12.4"
  }
 },
 "nbformat": 4,
 "nbformat_minor": 5
}
